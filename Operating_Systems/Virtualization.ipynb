{
 "cells": [
  {
   "cell_type": "markdown",
   "id": "ea3ddaa8",
   "metadata": {},
   "source": [
    "# **Virtualization**\n",
    "\n",
    "## **\"The Abstraction: The Process.\"**\n",
    "\n",
    "The **process** is the fundamental abstraction: a running program. The OS provides the illusion of many **virtual CPUs** on a few physical CPUs through **time sharing**; **mechanisms** are low-level (e.g., context switch), and **policies** decide which process to run.\n",
    "The **machine state** of a process includes its **address space** (code, static data, heap, stack), **registers** (PC/IP, SP, frame pointer), and **I/O information** (open files).\n",
    "\n",
    "## Process API (Typical Interface)\n",
    "* **create** (creation)\n",
    "* **destroy/kill**\n",
    "* **wait** (wait for termination)\n",
    "* Various controls (**suspend/resume**)\n",
    "* **status** (CPU time, state)\n",
    "\n",
    "## From Executable to Process\n",
    "The OS loads the code and static data into memory (**eager** or **lazy**), allocates and initializes the **stack** (e.g., *argc/argv*), prepares the **heap** (for *malloc()*), sets up the standard **file descriptors** (*stdin/out/err*), and starts execution at *main()*.\n",
    "\n",
    "## Process States\n",
    "* **Running** (on the CPU)\n",
    "* **Ready** (ready but not executing)\n",
    "* **Blocked** (waiting for an event, e.g., I/O)\n",
    "\n",
    "**Transitions**: **schedule** (ready → running), **deschedule** (running → ready); upon I/O completion: blocked → ready. Examples show how the OS maintains high **CPU utilization** by running another process during I/O.\n",
    "\n",
    "## OS Data Structures\n",
    "The OS uses a **process list** with a **PCB** (Process Control Block) for each process. In *xv6*, the *struct proc* contains: register context for the context switch, state, PID, pointers to open files, current directory, trapframe, etc. Additional states include **UNUSED/EMBRYO/SLEEPING/RUNNABLE/RUNNING/ZOMBIE** (useful to allow the parent to call *wait()* and collect the exit code).\n",
    "\n",
    "## Key Principles\n",
    "* **Separation of policy/mechanism** (changing the scheduling algorithm without touching the context switch)\n",
    "* **Time sharing vs. space sharing** (CPU is shared over time; disk is typically shared over space).\n",
    "\n",
    "In summary, the chapter defines what a process is, how the OS creates and manages it, which states it transitions through, and what data the OS maintains, laying the groundwork for understanding **CPU virtualization** and **scheduling** in subsequent chapters.\n",
    "\n",
    "---"
   ]
  },
  {
   "cell_type": "markdown",
   "id": "a37c8879",
   "metadata": {},
   "source": [
    "## Thread Scheduling Explained Simply\n",
    "\n",
    "| Role | Analogy |\n",
    "| :--- | :--- |\n",
    "| **CPU** | The **Stage** |\n",
    "| **Threads** | The **Actors** |\n",
    "| **Scheduler** | The **Director** |\n",
    "| **Ready Queue** | The line of ready actors |\n",
    "\n",
    "* **Stack:** The actor's open **script** (the functions called). This is used *by* the thread, but doesn't decide the running order.\n",
    "\n",
    "### Thread States\n",
    "\n",
    "1.  **Running:** Currently using the CPU (on the Stage).\n",
    "2.  **Ready:** Ready to run (in the line), waiting for the CPU.\n",
    "3.  **Blocked/Waiting:** Waiting for something (I/O, a lock, a timer, a GUI event).\n",
    "\n",
    "### Typical Transitions\n",
    "\n",
    "* **Running $\\rightarrow$ Ready:** Time slice (quantum) ends or the thread voluntarily **yields**.\n",
    "* **Running $\\rightarrow$ Blocked:** Needs to wait (e.g., I/O request, needs a lock, calls `sleep()`).\n",
    "* **Blocked $\\rightarrow$ Ready:** The waiting event is complete (I/O finishes, lock is released).\n",
    "\n",
    "### Quick Examples\n",
    "\n",
    "* **Typing in VS Code:** The editor is **Blocked** waiting for input. Keypress arrives $\\rightarrow$ Ready $\\rightarrow$ Running, updates the screen, and goes back to **Blocked**.\n",
    "* **Saving a File:** The `write()` call may **Block** $\\rightarrow$ Running $\\rightarrow$ Blocked. When I/O finishes $\\rightarrow$ Blocked $\\rightarrow$ Ready.\n",
    "* **Parent calls `wait()`:** The parent process goes **Blocked** until its child thread terminates.\n",
    "* **Multi-core:** Multiple actors can be **Running** simultaneously (one per core).\n",
    "\n",
    "**In Summary:** The **stack** tracks *where* you are in the code; the **ready queue** and **scheduler** decide *who* runs and *when*.\n",
    "\n",
    "---"
   ]
  }
 ],
 "metadata": {
  "kernelspec": {
   "display_name": "ai_env",
   "language": "python",
   "name": "python3"
  },
  "language_info": {
   "codemirror_mode": {
    "name": "ipython",
    "version": 3
   },
   "file_extension": ".py",
   "mimetype": "text/x-python",
   "name": "python",
   "nbconvert_exporter": "python",
   "pygments_lexer": "ipython3",
   "version": "3.10.16"
  }
 },
 "nbformat": 4,
 "nbformat_minor": 5
}
