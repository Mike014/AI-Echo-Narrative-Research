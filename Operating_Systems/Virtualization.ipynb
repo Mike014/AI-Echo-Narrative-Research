{
 "cells": [
  {
   "cell_type": "markdown",
   "id": "ea3ddaa8",
   "metadata": {},
   "source": [
    "# **Virtualization**\n",
    "\n",
    "## **\"The Abstraction: The Process.\"**\n",
    "\n",
    "The **process** is the fundamental abstraction: a running program. The OS provides the illusion of many **virtual CPUs** on a few physical CPUs through **time sharing**; **mechanisms** are low-level (e.g., context switch), and **policies** decide which process to run.\n",
    "The **machine state** of a process includes its **address space** (code, static data, heap, stack), **registers** (PC/IP, SP, frame pointer), and **I/O information** (open files).\n",
    "\n",
    "## Process API (Typical Interface)\n",
    "* **create** (creation)\n",
    "* **destroy/kill**\n",
    "* **wait** (wait for termination)\n",
    "* Various controls (**suspend/resume**)\n",
    "* **status** (CPU time, state)\n",
    "\n",
    "## From Executable to Process\n",
    "The OS loads the code and static data into memory (**eager** or **lazy**), allocates and initializes the **stack** (e.g., *argc/argv*), prepares the **heap** (for *malloc()*), sets up the standard **file descriptors** (*stdin/out/err*), and starts execution at *main()*.\n",
    "\n",
    "## Process States\n",
    "* **Running** (on the CPU)\n",
    "* **Ready** (ready but not executing)\n",
    "* **Blocked** (waiting for an event, e.g., I/O)\n",
    "\n",
    "**Transitions**: **schedule** (ready → running), **deschedule** (running → ready); upon I/O completion: blocked → ready. Examples show how the OS maintains high **CPU utilization** by running another process during I/O.\n",
    "\n",
    "## OS Data Structures\n",
    "The OS uses a **process list** with a **PCB** (Process Control Block) for each process. In *xv6*, the *struct proc* contains: register context for the context switch, state, PID, pointers to open files, current directory, trapframe, etc. Additional states include **UNUSED/EMBRYO/SLEEPING/RUNNABLE/RUNNING/ZOMBIE** (useful to allow the parent to call *wait()* and collect the exit code).\n",
    "\n",
    "## Key Principles\n",
    "* **Separation of policy/mechanism** (changing the scheduling algorithm without touching the context switch)\n",
    "* **Time sharing vs. space sharing** (CPU is shared over time; disk is typically shared over space).\n",
    "\n",
    "In summary, the chapter defines what a process is, how the OS creates and manages it, which states it transitions through, and what data the OS maintains, laying the groundwork for understanding **CPU virtualization** and **scheduling** in subsequent chapters.\n",
    "\n",
    "---"
   ]
  },
  {
   "cell_type": "markdown",
   "id": "a37c8879",
   "metadata": {},
   "source": [
    "## Thread Scheduling Explained Simply\n",
    "\n",
    "| Role | Analogy |\n",
    "| :--- | :--- |\n",
    "| **CPU** | The **Stage** |\n",
    "| **Threads** | The **Actors** |\n",
    "| **Scheduler** | The **Director** |\n",
    "| **Ready Queue** | The line of ready actors |\n",
    "\n",
    "* **Stack:** The actor's open **script** (the functions called). This is used *by* the thread, but doesn't decide the running order.\n",
    "\n",
    "### Thread States\n",
    "\n",
    "1.  **Running:** Currently using the CPU (on the Stage).\n",
    "2.  **Ready:** Ready to run (in the line), waiting for the CPU.\n",
    "3.  **Blocked/Waiting:** Waiting for something (I/O, a lock, a timer, a GUI event).\n",
    "\n",
    "### Typical Transitions\n",
    "\n",
    "* **Running $\\rightarrow$ Ready:** Time slice (quantum) ends or the thread voluntarily **yields**.\n",
    "* **Running $\\rightarrow$ Blocked:** Needs to wait (e.g., I/O request, needs a lock, calls `sleep()`).\n",
    "* **Blocked $\\rightarrow$ Ready:** The waiting event is complete (I/O finishes, lock is released).\n",
    "\n",
    "### Quick Examples\n",
    "\n",
    "* **Typing in VS Code:** The editor is **Blocked** waiting for input. Keypress arrives $\\rightarrow$ Ready $\\rightarrow$ Running, updates the screen, and goes back to **Blocked**.\n",
    "* **Saving a File:** The `write()` call may **Block** $\\rightarrow$ Running $\\rightarrow$ Blocked. When I/O finishes $\\rightarrow$ Blocked $\\rightarrow$ Ready.\n",
    "* **Parent calls `wait()`:** The parent process goes **Blocked** until its child thread terminates.\n",
    "* **Multi-core:** Multiple actors can be **Running** simultaneously (one per core).\n",
    "\n",
    "**In Summary:** The **stack** tracks *where* you are in the code; the **ready queue** and **scheduler** decide *who* runs and *when*.\n",
    "\n",
    "---"
   ]
  },
  {
   "cell_type": "markdown",
   "id": "852045a7",
   "metadata": {},
   "source": [
    "# **What is a process?**\n",
    "\n",
    "A **process** is not \"an executing resource,\" but a **running instance** of a program with its **execution context**: memory (stack/heap), registers, file descriptors, environment variables, permissions, state, etc. It is the unit that the operating system schedules on the CPU.\n",
    "\n",
    "# `fork()`, `exec()`, `wait()` — what are they?\n",
    "\n",
    "They are **POSIX system calls**, i.e., functions exposed by the **operating system** that a process can invoke.\n",
    "\n",
    "* **`fork()`** – *duplicates the process*\n",
    "Creates a **child** almost identical to the **parent** (same code, copy of the context).\n",
    "Different returns: to the parent → **child PID**; to the child → **0**.\n",
    "Side effect: without coordination, the print/progress order is **non-deterministic**.\n",
    "\n",
    "* **`exec()`** – *replaces the program in the process*\n",
    "Doesn't create a new process: it **replaces** the code and segments of the **current process** with a **new program** (executable). If successful, it **doesn't return** (continue inside the new program).\n",
    "\n",
    "* **`wait()` / `waitpid()`** – *synchronizes and cleans up*\n",
    "The **parent** blocks until a **child** exits; this makes the order **deterministic** and “collects” its exit status (avoiding **zombies**).\n",
    "\n",
    "# Why separate `fork()` and `exec()`\n",
    "\n",
    "To make room for the **setup** between the two steps. This is the heart of how **shells** (bash, zsh) work:\n",
    "\n",
    "1. The shell does `fork()` → now it has a **child** it can “tweak” without affecting itself.\n",
    "2. In the child, it does the **preparations**: redirections (`dup2` to `STDIN/STDOUT/STDERR`), setting environment variables, pipe management, `chdir`, `setpgid`, resource limitations, etc.\n",
    "3. Then it calls `exec()` to **load the actual command** (e.g., `ls`, `python`, `ffmpeg`).\n",
    "4. In the **parent** (the shell), a `wait()` “waits” for that child to know when it's finished and its exit code.\n",
    "\n",
    "This separation allows:\n",
    "\n",
    "* **Redirections**: `cmd > out.txt` (the child points `STDOUT` to the file, then `exec()`).\n",
    "* **Pipe**: `A | B` (the shell creates a pipe, connecting `stdout` of A to `stdin` of B between `fork()` and `exec()`).\n",
    "* **Isolation**: changes only in the child; The shell remains clean for the next command.\n",
    "\n",
    "These are system calls that a process invokes. They are not \"process functions\" in the OO sense; they are kernel APIs for creating, replacing, and synchronizing processes.\n",
    "\n",
    "# Mini mental flow (one line)\n",
    "\n",
    "`fork()` (child is created) → [setup in child] → `exec()` (runs real program) → `wait()` in parent (synchronizes and reads exit code).\n",
    "\n",
    "\n",
    "1. fork() = creates a worker (child),\n",
    "\n",
    "2. between the two steps = gives it the right tools (redirections, pipes, env),\n",
    "\n",
    "3. exec() = the worker becomes the specialist who does the work (the actual program),\n",
    "\n",
    "4. wait() = the boss decides whether to wait for the report or immediately move on to another order.\n",
    "\n",
    "Starting a program = creating a new instance (process) that loads and runs that program; this instance is what actually does the work, not the original file on disk.\n",
    "\n",
    "\n",
    "---\n"
   ]
  },
  {
   "cell_type": "markdown",
   "id": "f8473a2f",
   "metadata": {},
   "source": [
    "## *UNIX-style process patterns*"
   ]
  },
  {
   "cell_type": "code",
   "execution_count": null,
   "id": "8867c7dc",
   "metadata": {},
   "outputs": [
    {
     "name": "stdout",
     "output_type": "stream",
     "text": [
      "[parent] pid=13548\n",
      "[parent] child finished, continue...\n"
     ]
    }
   ],
   "source": [
    "# 1) “fork + wait” feel with multiprocessing\n",
    "import os, time\n",
    "from multiprocessing import Process\n",
    "\n",
    "def child_job(tag=\"child\"):\n",
    "    print(f\"[{tag}] pid={os.getpid()} | parent={os.getppid()}\")\n",
    "    time.sleep(0.2)\n",
    "\n",
    "if __name__ == \"__main__\":\n",
    "    print(f\"[parent] pid={os.getpid()}\")\n",
    "    p = Process(target=child_job, kwargs={\"tag\": \"child\"})\n",
    "    p.start()                  # conceptual “fork”\n",
    "    p.join()                   # conceptual “wait”\n",
    "    print(\"[parent] child finished, continue...\")\n"
   ]
  },
  {
   "cell_type": "code",
   "execution_count": 4,
   "id": "a5f8f9f4",
   "metadata": {},
   "outputs": [
    {
     "name": "stdout",
     "output_type": "stream",
     "text": [
      "[child proc] hello from pid=5396\n",
      "[parent] exit code: 0\n"
     ]
    }
   ],
   "source": [
    "# 2) “exec & wait” with subprocess.run\n",
    "import sys, subprocess\n",
    "\n",
    "code = 'import os; print(f\"[child proc] hello from pid={os.getpid()}\")'\n",
    "result = subprocess.run([sys.executable, \"-c\", code], capture_output=True, text=True)\n",
    "print(result.stdout, end=\"\")           # child’s stdout\n",
    "print(f\"[parent] exit code: {result.returncode}\")\n"
   ]
  },
  {
   "cell_type": "code",
   "execution_count": 5,
   "id": "64bfe4de",
   "metadata": {},
   "outputs": [
    {
     "name": "stdout",
     "output_type": "stream",
     "text": [
      "[parent] wrote to out.txt:\n",
      "hello redirected\n",
      "line 2\n",
      "\n"
     ]
    }
   ],
   "source": [
    "# 3) Redirection: STDOUT → file, then execute\n",
    "import sys, subprocess, pathlib\n",
    "\n",
    "out = pathlib.Path(\"out.txt\")\n",
    "code = 'print(\"hello redirected\"); print(\"line 2\")'\n",
    "with out.open(\"w\", encoding=\"utf-8\") as f:\n",
    "    subprocess.run([sys.executable, \"-c\", code], stdout=f, text=True)\n",
    "\n",
    "print(\"[parent] wrote to out.txt:\")\n",
    "print(out.read_text(encoding=\"utf-8\"))\n"
   ]
  },
  {
   "cell_type": "code",
   "execution_count": null,
   "id": "d9396e1e",
   "metadata": {},
   "outputs": [
    {
     "name": "stdout",
     "output_type": "stream",
     "text": [
      "lines: 5\n",
      "first: num:0\n"
     ]
    }
   ],
   "source": [
    "# 4) Pipe between two processes (producer | consumer)\n",
    "import sys, subprocess\n",
    "\n",
    "producer = 'import sys; [print(f\"num:{i}\") for i in range(5)]'\n",
    "consumer = r'''import sys\n",
    "data = sys.stdin.read().strip().splitlines()\n",
    "print(\"lines:\", len(data))\n",
    "print(\"first:\", data[0] if data else \"<empty>\")'''\n",
    "\n",
    "p1 = subprocess.Popen([sys.executable, \"-c\", producer], stdout=subprocess.PIPE, text=True)\n",
    "p2 = subprocess.Popen([sys.executable, \"-c\", consumer], stdin=p1.stdout, stdout=subprocess.PIPE, text=True)\n",
    "p1.stdout.close()  # important: let p2 see EOF\n",
    "out, _ = p2.communicate()\n",
    "print(out, end=\"\")\n"
   ]
  },
  {
   "cell_type": "code",
   "execution_count": 7,
   "id": "1e356165",
   "metadata": {},
   "outputs": [
    {
     "data": {
      "text/plain": [
       "CompletedProcess(args=['c:\\\\Users\\\\DELL\\\\anaconda3\\\\envs\\\\ai_env\\\\python.exe', '-c', 'import os; print(\"MY_VAR =\", os.getenv(\"MY_VAR\"))'], returncode=0)"
      ]
     },
     "execution_count": 7,
     "metadata": {},
     "output_type": "execute_result"
    }
   ],
   "source": [
    "# 5) Tweak the environment before launch (like between fork & exec)\n",
    "import os, sys, subprocess\n",
    "\n",
    "env = os.environ.copy()\n",
    "env[\"MY_VAR\"] = \"42\"\n",
    "code = 'import os; print(\"MY_VAR =\", os.getenv(\"MY_VAR\"))'\n",
    "subprocess.run([sys.executable, \"-c\", code], env=env, text=True)\n"
   ]
  },
  {
   "cell_type": "code",
   "execution_count": 8,
   "id": "8b872958",
   "metadata": {},
   "outputs": [
    {
     "name": "stdout",
     "output_type": "stream",
     "text": [
      "terminated with code: 1\n"
     ]
    }
   ],
   "source": [
    "# 6) Politely terminate a long-running child\n",
    "import sys, subprocess, time\n",
    "\n",
    "long_code = 'import time; [time.sleep(0.5) for _ in range(10)]'\n",
    "p = subprocess.Popen([sys.executable, \"-c\", long_code])\n",
    "time.sleep(1.2)        # child is “working”\n",
    "p.terminate()          # SIGTERM on UNIX; TerminateProcess on Windows\n",
    "rc = p.wait()\n",
    "print(\"terminated with code:\", rc)\n"
   ]
  },
  {
   "cell_type": "markdown",
   "id": "5d06f6ad",
   "metadata": {},
   "source": [
    "---\n",
    "\n",
    "# Mini-Glossary of libraries used\n",
    "\n",
    "* **`os`**\n",
    "  Low-level OS info/utilities (PIDs, parent PID, environment). Used for `os.getpid()`, `os.getppid()`, `os.environ`.\n",
    "\n",
    "* **`time`**\n",
    "  Simple sleeping/timing to simulate work and ordering (`time.sleep`).\n",
    "\n",
    "* **`multiprocessing`**\n",
    "  High-level process API that feels like `fork()` + `wait()` but portable; `Process.start()` creates a child, `Process.join()` waits.\n",
    "\n",
    "* **`sys`**\n",
    "  Access to the current Python executable (`sys.executable`) and standard streams; helpful when spawning another Python.\n",
    "\n",
    "* **`subprocess`**\n",
    "  Spawn and control external processes (or another Python). `run()` waits and returns a result; `Popen()` gives fine-grained control, pipes, `communicate()`, and `terminate()`.\n",
    "\n",
    "* **`pathlib`**\n",
    "  Comfortable, cross-platform path handling and file I/O (`Path(\"out.txt\").open(...)`, `read_text()`).\n",
    "\n",
    "\n"
   ]
  }
 ],
 "metadata": {
  "kernelspec": {
   "display_name": "ai_env",
   "language": "python",
   "name": "python3"
  },
  "language_info": {
   "codemirror_mode": {
    "name": "ipython",
    "version": 3
   },
   "file_extension": ".py",
   "mimetype": "text/x-python",
   "name": "python",
   "nbconvert_exporter": "python",
   "pygments_lexer": "ipython3",
   "version": "3.10.16"
  }
 },
 "nbformat": 4,
 "nbformat_minor": 5
}
