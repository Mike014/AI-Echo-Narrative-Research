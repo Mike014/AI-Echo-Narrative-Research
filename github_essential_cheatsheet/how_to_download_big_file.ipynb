{
 "cells": [
  {
   "cell_type": "markdown",
   "id": "2e3a89e1",
   "metadata": {},
   "source": [
    "# 0) Recommended preparation (once)\n",
    "```bash\n",
    "git config --global core.longpaths true\n",
    "git lfs install\n",
    "```\n",
    "\n",
    "# 1) CLONE with retry until successful (HTTPS, no LFS, no large blobs)\n",
    "```bash\n",
    "export GIT_LFS_SKIP_SMUDGE=1\n",
    "until git -c http.lowSpeedLimit=0 -c http.lowSpeedTime=999999 -c http.version=HTTP/1.1 \\\n",
    "  clone --depth=1 --filter=blob:none --single-branch \\\n",
    "  https://github.com/Mike014/Project-Librarian.git; do\n",
    "  echo \"[clone] network failed, retrying...\"; sleep 5\n",
    "done\n",
    "```\n",
    "\n",
    "```bash\n",
    "cd Project-Librarian\n",
    "```\n",
    "\n",
    "# 2) Complete history in chunks (retry if network fails)\n",
    "```bash\n",
    "until git fetch --unshallow; do\n",
    "  echo \"[fetch] network failed, retrying...\"; sleep 5\n",
    "done\n",
    "```\n",
    "\n",
    "# 3) Get LFS binaries (if you need everything)\n",
    "```bash\n",
    "until git lfs pull; do\n",
    "  echo \"[lfs] network failed, retrying...\"; sleep 5\n",
    "done\n",
    "```"
   ]
  }
 ],
 "metadata": {
  "language_info": {
   "name": "python"
  }
 },
 "nbformat": 4,
 "nbformat_minor": 5
}
