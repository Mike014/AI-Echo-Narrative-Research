{
 "cells": [
  {
   "cell_type": "markdown",
   "id": "c7295a15",
   "metadata": {},
   "source": [
    "# Simple System Architecture: Game & OS Agent\n",
    "\n",
    "**Goal:** Build a fast, responsive game that works on desktop and can be easily moved to the web, keeping things separate and safe.\n",
    "\n",
    "---\n",
    "\n",
    "## The Game (One Program, Many Workers)\n",
    "\n",
    "The game runs as a single application, but it divides work among several internal workers (**threads**) to avoid slowdowns.\n",
    "\n",
    "| Worker (Thread) | Job | Rule |\n",
    "| :--- | :--- | :--- |\n",
    "| **GameLoop** | Draws the screen, takes player input, and plays audio. | **CRITICAL:** Must run smoothly. **Never** wait for slow tasks here. |\n",
    "| **Diary** | Reads the book/file content (slow I/O). | Keeps file loading separate from gameplay. |\n",
    "| **Chatbot** | Calculates AI replies (slow computation). | Uses **message boxes (queues)** to deliver results without freezing the game. |\n",
    "| **Entity Brain** | Decides *what* needs to be done (e.g., \"save a note\"). | It asks for an action, but doesn't do the system work itself. |\n",
    "\n",
    "---\n",
    "\n",
    "## The OS Agent (A Separate, Safe Assistant)\n",
    "\n",
    "A second, completely separate program handles all risky or sensitive access to the computer.\n",
    "\n",
    "* **Communication:** Talks to the game using a secure text-based channel (**IPC/JSON**).\n",
    "* **Safety Check:** Only allows a **pre-approved list** of commands (e.g., \"show a pop-up,\" \"write a log file\"). **Blocks everything else** (like running system commands).\n",
    "\n",
    "### Security and Reliability\n",
    "\n",
    "1.  **Isolation:** If the main game has a crash or security problem, it **cannot harm the system** because the Agent is isolated in a separate process.\n",
    "2.  **Safety Modes:**\n",
    "    * **Safe Mode (Default):** Pretends to do the action (uses **mocks**); no system access.\n",
    "    * **Enhanced Mode (Opt-in):** Performs real actions, but with **minimum permissions** and logging.\n",
    "3.  **Crash Proofing:** If the Agent crashes, the game switches to **Safe Mode** instantly and keeps running (a **circuit breaker**).\n",
    "\n",
    "### Web Readiness\n",
    "\n",
    "* To move to the web, we simply swap the **OS Agent program** with a **Web Worker** that calls browser APIs (like notifications).\n",
    "* The game itself doesn't change—it just sends the same requests to a different backend.\n",
    "\n",
    "---\n",
    "\n",
    "**In short:** Use internal workers (threads) for speed, and a separate helper program (OS Agent) for security and stability."
   ]
  }
 ],
 "metadata": {
  "language_info": {
   "name": "python"
  }
 },
 "nbformat": 4,
 "nbformat_minor": 5
}
