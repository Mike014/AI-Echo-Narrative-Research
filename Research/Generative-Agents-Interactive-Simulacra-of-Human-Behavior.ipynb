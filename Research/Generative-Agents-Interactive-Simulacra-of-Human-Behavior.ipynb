{
 "cells": [
  {
   "cell_type": "markdown",
   "id": "fc23916e",
   "metadata": {},
   "source": [
    "# **[Generative Agents: Interactive Simulacra of Human Behavior](https://arxiv.org/pdf/2304.03442)**"
   ]
  },
  {
   "cell_type": "markdown",
   "id": "cb10e070",
   "metadata": {},
   "source": [
    "The paper **introduces generative agents**, virtual characters that **simulate believable human behavior**. They are not simple chatbots: they live in a simulated world, wake up, talk, work, remember experiences, and plan for the future.\n",
    "\n",
    "**The architecture is based on a LLM** enriched with three functions:\n",
    "\n",
    "1. **Memory** (recording experiences),\n",
    "2. **Reflection** (abstracting memories),\n",
    "3. **Planning** (using memories to act).\n",
    "\n",
    "In a Sims-style experiment with 25 agents, from a single input (\"I want to organize a Valentine's Day party\"), the agents spread the news, invited others, made appointments, and participated together.\n",
    "\n",
    "### **Result**:\n",
    "The agents exhibit realistic and emergent behaviors, useful for games, immersive environments, and social research."
   ]
  },
  {
   "cell_type": "markdown",
   "id": "26b1f86e",
   "metadata": {},
   "source": [
    "### Objective\n",
    "\n",
    "The authors situate their work within the literature on human-AI interaction and the historic but complex efforts to create agents that credibly simulate human behavior.\n",
    "\n",
    "### Key Points\n",
    "\n",
    "* **Human-AI Interaction**: For decades, efforts have been made to enable users to influence and train models.\n",
    "* **Historical examples**: Crayons (interactive ML), SHRDLU, ELIZA (first natural language interactions).\n",
    "* **Evolution**: systems based on examples/demonstrations, up to prompt authoring and deep learning.\n",
    "* **Agents and Natural Language**: Today, the technology is mature enough for autonomous agents that communicate in natural language in complex online social environments.\n",
    "* **Opportunities**: Natural language becomes a means to enhance human skills in various domains (photo editing, code editing).\n",
    "\n",
    "This line of research reopens classic **HCI questions** (cognitive models, prototyping tools, ubiquitous computing), showing that with LLMs, when integrated with the right architecture, it is possible to build agents that act as credible proxies of human behavior.\n"
   ]
  },
  {
   "cell_type": "markdown",
   "id": "842bcea4",
   "metadata": {},
   "source": [
    "### Believability as a Goal\n",
    "\n",
    "* “**Believability**” has been a central goal in the development of artificial agents for decades.\n",
    "* The idea is that agents appear to have a life of their own, like Disney characters or NPCs in games, creating the illusion of autonomous decisions and emergent social interactions.\n",
    "\n",
    "### Historical Approaches\n",
    "\n",
    "1. **Rule-based** (finite-state machines, behavior trees):\n",
    "\n",
    "* Dominant in video games (*Mass Effect*, *The Sims*).\n",
    "* They work, but require manual scripting and don't cover all possible interactions.\n",
    "* They don't generate new behaviors beyond the encoded ones.\n",
    "\n",
    "2. **Learning-based (Reinforcement Learning)**:\n",
    "\n",
    "* Huge successes in competitive games (*AlphaStar*, *OpenAI Five*).\n",
    "* However, they only work with clear rewards → not suitable for open worlds with complex social dynamics.\n",
    "\n",
    "3. **Cognitive architectures (SOAR, ACT-R, ICARUS)**:\n",
    "\n",
    "* They integrate short-term/long-term memory and perception-planning-action cycles.\n",
    "* Examples: Quakebot-SOAR, TacAir-SOAR.\n",
    "* Robust for their time, but still based on handwritten procedural knowledge → no real ability to invent new behaviors.\n",
    "\n",
    "### Current status\n",
    "\n",
    "* The problem of creating **truly believable agents** remains open.\n",
    "* Many researchers are satisfied with \"good enough\" solutions for traditional gameplay.\n",
    "* The authors argue, however, that **Large Language Models** now offer the possibility of reopening the challenge, if integrated with an architecture capable of managing **memories and reflections**.\n",
    "\n",
    "---"
   ]
  },
  {
   "cell_type": "markdown",
   "id": "ded12efc",
   "metadata": {},
   "source": [
    "### Believability as a Goal\n",
    "\n",
    "* “**Believability**” (credibility) has been a central goal in the development of artificial agents for decades.\n",
    "* The idea is that agents appear to have a life of their own, like Disney characters or NPCs in games, creating the illusion of autonomous decisions and emergent social interactions.\n",
    "\n",
    "### Historical Approaches\n",
    "\n",
    "1. **Rule-based** (finite-state machines, behavior trees):\n",
    "\n",
    "* Dominant in video games (*Mass Effect*, *The Sims*).\n",
    "* They work, but require manual scripting and do not cover all possible interactions.\n",
    "* They do not generate new behaviors beyond those encoded.\n",
    "\n",
    "2. **Learning-based (Reinforcement Learning)**:\n",
    "\n",
    "* Huge successes in competitive games (*AlphaStar*, *OpenAI Five*).\n",
    "* However, they only work with clear rewards → not suitable for open worlds with complex social dynamics.\n",
    "\n",
    "3. **Cognitive architectures (SOAR, ACT-R, ICARUS)**:\n",
    "\n",
    "* They integrate short-term/long-term memory and perception-planning-action cycles.\n",
    "* Examples: Quakebot-SOAR, TacAir-SOAR.\n",
    "* Robust for their time, but still based on handwritten procedural knowledge → no real ability to invent new behaviors.\n",
    "\n",
    "### Current status\n",
    "\n",
    "* The problem of creating **truly believable agents** remains open.\n",
    "* Many researchers are satisfied with \"good enough\" solutions for traditional gameplay.\n",
    "* The authors argue, however, that **Large Language Models** now offer the possibility of reopening the challenge, if integrated with an architecture capable of managing **memories and reflections**.\n",
    "\n",
    " 2.3 Large Language Models and Human\n",
    " Behavior\n"
   ]
  }
 ],
 "metadata": {
  "kernelspec": {
   "display_name": "ai_env",
   "language": "python",
   "name": "python3"
  },
  "language_info": {
   "name": "python",
   "version": "3.10.16"
  }
 },
 "nbformat": 4,
 "nbformat_minor": 5
}
